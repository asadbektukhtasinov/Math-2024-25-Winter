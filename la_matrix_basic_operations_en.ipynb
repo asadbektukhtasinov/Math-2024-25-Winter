{
  "cells": [
    {
      "cell_type": "markdown",
      "metadata": {
        "id": "view-in-github",
        "colab_type": "text"
      },
      "source": [
        "<a href=\"https://colab.research.google.com/github/asadbektukhtasinov/Math-2024-25-Winter/blob/main/la_matrix_basic_operations_en.ipynb\" target=\"_parent\"><img src=\"https://colab.research.google.com/assets/colab-badge.svg\" alt=\"Open In Colab\"/></a>"
      ]
    },
    {
      "cell_type": "markdown",
      "metadata": {
        "id": "YceexqxIlysy"
      },
      "source": [
        "# Basic Matrix Operations\n",
        "\n",
        "### Matrix Addition\n",
        "\n",
        "Let $A=[a_{ij}]$ and $B=[b_{ij}]$ be two matrices of dimensions $m \\times n$. Then the sum of matrices $A$ and $B$ is the matrix $C=[c_{ij}]$ of dimensions $m \\times n$, where $c_{ij}=a_{ij}+b_{ij}$.\n",
        "\n",
        "### Matrix Scalar Multiplication\n",
        "\n",
        "Let $A=[a_{ij}]$ be a matrix of dimensions $m \\times n$, and let $k$ be a scalar. Then the product of matrix $A$ and scalar $k$ is the matrix $B=[b_{ij}]$ of dimensions $m \\times n$, where $b_{ij}=k \\cdot a_{ij}$.\n",
        "\n",
        "### Matrix Multiplication\n",
        "\n",
        "Let $A=[a_{ij}]$ be a matrix of dimensions $m \\times n$, and $B=[b_{ij}]$ be a matrix of dimensions $n \\times p$. Then the product of matrices $A$ and $B$ is the matrix $C=[c_{ij}]$ of dimensions $m \\times p$, where $c_{ij}=\\sum_{k=1}^{n} a_{ik} \\cdot b_{kj}$.\n",
        "\n",
        "\n",
        "### Example 1\n",
        "\n",
        "Let $A=\\begin{bmatrix} 1 & 2 \\\\ 3 & 4 \\end{bmatrix}$ and $B=\\begin{bmatrix} 5 & 6 \\\\ 7 & 8 \\end{bmatrix}$.\n",
        "Then the sum of matrices $A$ and $B$ is\n",
        "\n",
        "$$\n",
        "C=\n",
        "A+B=\\begin{bmatrix} 1+5 & 2+6 \\\\ 3+7 & 4+8 \\end{bmatrix}=\\begin{bmatrix} 6 & 8 \\\\ 10 & 12 \\end{bmatrix}.\n",
        "$$\n",
        "\n",
        "### Example 2\n",
        "\n",
        "Let $A=\\begin{bmatrix} 1 & 2 \\\\ 3 & 4 \\end{bmatrix}$ and $k=2$.\n",
        "\n",
        "Then the product of matrix $A$ and scalar $k$ is\n",
        "\n",
        "$$\n",
        "B=\n",
        "k \\cdot A=2 \\cdot \\begin{bmatrix} 1 & 2 \\\\ 3 & 4 \\end{bmatrix}=\\begin{bmatrix} 2*1 & 2*2 \\\\ 2*3 & 2*4 \\end{bmatrix}=\\begin{bmatrix} 2 & 4 \\\\ 6 & 8 \\end{bmatrix}.\n",
        "$$\n",
        "\n",
        "### Example 3\n",
        "\n",
        "Let\n",
        "$A=\\begin{bmatrix} 1 & 2 \\\\ 3 & 4 \\end{bmatrix}$\n",
        "and\n",
        "$B=\\begin{bmatrix} 5 & 6 \\\\ 7 & 8 \\end{bmatrix}$.\n",
        "\n",
        "Then the product of matrices $A$ and $B$ is\n",
        "\n",
        "$$\n",
        "C=\n",
        "A \\cdot B=\\begin{bmatrix} 1*5+2*7 & 1*6+2*8 \\\\ 3*5+4*7 & 3*6+4*8 \\end{bmatrix}=\\begin{bmatrix} 19 & 22 \\\\ 43 & 50 \\end{bmatrix}.\n",
        "$$"
      ]
    },
    {
      "cell_type": "code",
      "execution_count": null,
      "metadata": {
        "colab": {
          "base_uri": "https://localhost:8080/",
          "height": 58
        },
        "id": "uOrlBgHIlys2",
        "outputId": "716395ff-d97c-4666-ca31-dea97959d59e"
      },
      "outputs": [
        {
          "output_type": "execute_result",
          "data": {
            "text/plain": [
              "Matrix([\n",
              "[1, 2],\n",
              "[3, 4]])"
            ],
            "text/latex": "$\\displaystyle \\left[\\begin{matrix}1 & 2\\\\3 & 4\\end{matrix}\\right]$"
          },
          "metadata": {},
          "execution_count": 1
        }
      ],
      "source": [
        "# Example 1: Matrix addition in sympy\n",
        "import sympy as sp\n",
        "\n",
        "A=sp.Matrix([[1,2],[3,4]])\n",
        "B=sp.Matrix([[5,6],[7,8]])\n",
        "A # display matrix A"
      ]
    },
    {
      "cell_type": "code",
      "execution_count": null,
      "metadata": {
        "colab": {
          "base_uri": "https://localhost:8080/",
          "height": 58
        },
        "id": "vvG4igrXlys3",
        "outputId": "7cc580fc-2309-46d4-c342-03ca6ccffa1e"
      },
      "outputs": [
        {
          "output_type": "execute_result",
          "data": {
            "text/plain": [
              "Matrix([\n",
              "[5, 6],\n",
              "[7, 8]])"
            ],
            "text/latex": "$\\displaystyle \\left[\\begin{matrix}5 & 6\\\\7 & 8\\end{matrix}\\right]$"
          },
          "metadata": {},
          "execution_count": 2
        }
      ],
      "source": [
        "B # display matrix B"
      ]
    },
    {
      "cell_type": "code",
      "execution_count": null,
      "metadata": {
        "colab": {
          "base_uri": "https://localhost:8080/"
        },
        "id": "xlfGVtxUlys3",
        "outputId": "a09d0925-ed89-4410-db51-069285f54038"
      },
      "outputs": [
        {
          "output_type": "execute_result",
          "data": {
            "text/plain": [
              "True"
            ]
          },
          "metadata": {},
          "execution_count": 3
        }
      ],
      "source": [
        "sp.Matrix([[6,8],[10,12]])==A+B # verify matrix addition"
      ]
    },
    {
      "cell_type": "code",
      "execution_count": null,
      "metadata": {
        "id": "x2JJm5Izlys4"
      },
      "outputs": [],
      "source": [
        "# Example 2: Scalar multiplication\n",
        "A=sp.Matrix([[1,2],[3,4]]) # define matrix A\n",
        "\n",
        "sp.Matrix([[2,4],[6,8]])==2*A # verify scalar multiplication"
      ]
    },
    {
      "cell_type": "code",
      "execution_count": null,
      "metadata": {
        "id": "TXdAqBQ2lys4"
      },
      "outputs": [],
      "source": [
        "# Example 3: Multiplication of two matrices\n",
        "\n",
        "A=sp.Matrix([[1,2],[3,4]]) # define matrix A\n",
        "B=sp.Matrix([[5,6],[7,8]]) # define matrix B\n",
        "\n",
        "sp.Matrix([[19,22],[43,50]])==A*B # verify matrix multiplication"
      ]
    },
    {
      "cell_type": "markdown",
      "metadata": {
        "id": "kvfvbjyxlys4"
      },
      "source": [
        "### Necessary Condition for Matrix Multiplication\n",
        "\n",
        "Remember that matrices can have different numbers of rows and columns.\n",
        "\n",
        "To multiply two matrices $A_{m \\times n}$ and $B_{n \\times k}$, where $A$ has dimensions $m \\times n$ and $B$ has dimensions $n \\times k$, the number of columns of matrix $A$ must equal the number of rows of matrix $B$. Otherwise, matrix multiplication is not possible.\n",
        "\n",
        "$$\n",
        "A_{m \\times n} \\cdot B_{n \\times k} = C_{m \\times k}\n",
        "$$\n",
        "\n",
        "For example, if $A_{3 \\times 3}$ and $B_{3 \\times 3}$, then the resulting matrix $C_{3 \\times 3}$.\n",
        "\n",
        "<img src=\"https://www.mscroggs.co.uk/img/full/multiply_matrices.gif\" alt=\"Matrix Multiplication GIF\" width=\"400\">\n",
        "\n",
        "### Matrix Multiplication is Not Commutative\n",
        "\n",
        "Matrix multiplication is not commutative, i.e., in general $A \\cdot B \\neq B \\cdot A$."
      ]
    },
    {
      "cell_type": "code",
      "execution_count": null,
      "metadata": {
        "id": "EA9YU3DHlys5"
      },
      "outputs": [],
      "source": [
        "# Example of multiplying rectangular matrices\n",
        "import sympy as sp\n",
        "A=sp.Matrix([[1,2],[3,4],[5,6]]) # define matrix A_{3 x 2}\n",
        "B=sp.Matrix([[1,2,3],[4,5,6]]) # define matrix B_{2 x 3}\n",
        "C=sp.Matrix([[9,12,15],[19,26,33],[29,40,51]]) # define matrix C_{3 x 3}\n",
        "\n",
        "A*B # multiply matrices A and B to get a 3x3 matrix"
      ]
    },
    {
      "cell_type": "code",
      "execution_count": null,
      "metadata": {
        "id": "kdSb_7Relys5"
      },
      "outputs": [],
      "source": [
        "B*A # multiply matrices B and A to get a 2x2 matrix"
      ]
    },
    {
      "cell_type": "code",
      "execution_count": null,
      "metadata": {
        "id": "rCFSwyd1lys5"
      },
      "outputs": [],
      "source": [
        "B*C # multiply matrices B and C to get a 2x3 matrix"
      ]
    },
    {
      "cell_type": "markdown",
      "source": [],
      "metadata": {
        "id": "PekB8cHMmHLM"
      }
    },
    {
      "cell_type": "code",
      "source": [
        "# Example 1: Matrix addition in sympy\n",
        "import sympy as sp\n",
        "A=sp.Matrix([[1,2],[3,4]])\n",
        "B=sp.Matrix([[5,6],[7,8]])\n",
        "A # display matrix A"
      ],
      "metadata": {
        "colab": {
          "base_uri": "https://localhost:8080/",
          "height": 58
        },
        "id": "8NhZEpwBmHbE",
        "outputId": "e08c4993-13b8-4d27-b9db-1ae7276d3489"
      },
      "execution_count": null,
      "outputs": [
        {
          "output_type": "execute_result",
          "data": {
            "text/plain": [
              "Matrix([\n",
              "[1, 2],\n",
              "[3, 4]])"
            ],
            "text/latex": "$\\displaystyle \\left[\\begin{matrix}1 & 2\\\\3 & 4\\end{matrix}\\right]$"
          },
          "metadata": {},
          "execution_count": 4
        }
      ]
    },
    {
      "cell_type": "code",
      "source": [
        "B # display matrix B"
      ],
      "metadata": {
        "colab": {
          "base_uri": "https://localhost:8080/",
          "height": 58
        },
        "id": "Ek1Z-qmLmTIt",
        "outputId": "3a5c9cdd-5b72-4a2c-95d7-722ed97ed30d"
      },
      "execution_count": null,
      "outputs": [
        {
          "output_type": "execute_result",
          "data": {
            "text/plain": [
              "Matrix([\n",
              "[5, 6],\n",
              "[7, 8]])"
            ],
            "text/latex": "$\\displaystyle \\left[\\begin{matrix}5 & 6\\\\7 & 8\\end{matrix}\\right]$"
          },
          "metadata": {},
          "execution_count": 5
        }
      ]
    },
    {
      "cell_type": "code",
      "source": [
        "sp.Matrix([[6,8],[10,12]])==A+B # verify matrix addition"
      ],
      "metadata": {
        "colab": {
          "base_uri": "https://localhost:8080/"
        },
        "id": "t610hmpEmWYG",
        "outputId": "f3c7633a-18c2-427b-e8a6-6b280b09d355"
      },
      "execution_count": null,
      "outputs": [
        {
          "output_type": "execute_result",
          "data": {
            "text/plain": [
              "True"
            ]
          },
          "metadata": {},
          "execution_count": 6
        }
      ]
    },
    {
      "cell_type": "code",
      "source": [
        "# Example 2: Scalar multiplication\n",
        "A=sp.Matrix([[4,2],[12,4]]) # define matrix A"
      ],
      "metadata": {
        "id": "u261qppemgwO"
      },
      "execution_count": null,
      "outputs": []
    },
    {
      "cell_type": "code",
      "source": [
        "sp.Matrix([[1.0,0.5],[3.0, 1.0 ]])==1 / 4*A # verify scalar multiplication"
      ],
      "metadata": {
        "colab": {
          "base_uri": "https://localhost:8080/"
        },
        "id": "d87yYpFgns2-",
        "outputId": "daa189eb-2e92-416f-d129-38eb1d0a507d"
      },
      "execution_count": null,
      "outputs": [
        {
          "output_type": "execute_result",
          "data": {
            "text/plain": [
              "True"
            ]
          },
          "metadata": {},
          "execution_count": 10
        }
      ]
    },
    {
      "cell_type": "code",
      "source": [
        "# Example 3: Multiplication of two matrices\n",
        "\n",
        "A=sp.Matrix([[3,2],[2,4]]) # define matrix A\n",
        "B=sp.Matrix([[4,1],[6,4]]) # define matrix B\n",
        "sp.Matrix([[24,11],[32,18]])==A*B # verify matrix multiplication"
      ],
      "metadata": {
        "colab": {
          "base_uri": "https://localhost:8080/"
        },
        "id": "bcmI3rufqQ4m",
        "outputId": "7d01d87f-bc9e-4be3-b3be-5138f1a1f468"
      },
      "execution_count": null,
      "outputs": [
        {
          "output_type": "execute_result",
          "data": {
            "text/plain": [
              "True"
            ]
          },
          "metadata": {},
          "execution_count": 14
        }
      ]
    }
  ],
  "metadata": {
    "kernelspec": {
      "display_name": "Python 3",
      "language": "python",
      "name": "python3"
    },
    "language_info": {
      "name": "python",
      "version": "3.11.9"
    },
    "colab": {
      "provenance": [],
      "include_colab_link": true
    }
  },
  "nbformat": 4,
  "nbformat_minor": 0
}